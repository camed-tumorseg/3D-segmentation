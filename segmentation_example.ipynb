{
 "cells": [
  {
   "cell_type": "code",
   "execution_count": 4,
   "metadata": {},
   "outputs": [],
   "source": [
    "import numpy as np\n",
    "import tensorflow as tf\n",
    "import os\n",
    "\n",
    "from model.segmentation_module import *\n",
    "from helper_functions import scan_loader"
   ]
  },
  {
   "cell_type": "code",
   "execution_count": 5,
   "metadata": {},
   "outputs": [
    {
     "name": "stdout",
     "output_type": "stream",
     "text": [
      "Num GPUs Available: 1\n"
     ]
    }
   ],
   "source": [
    "# GPU Setup\n",
    "\n",
    "os.environ[\"CUDA_DEVICE_ORDER\"] = \"PCI_BUS_ID\"\n",
    "os.environ[\"CUDA_VISIBLE_DEVICES\"] = '0'\n",
    "\n",
    "# Tensorflow 2.XX\\n\",\n",
    "allow_multi_gpu = True\n",
    "tf_version = 2\n",
    "\n",
    "if tf_version == 2 and allow_multi_gpu:\n",
    "    gpus = tf.config.experimental.list_physical_devices('GPU')\n",
    "    print(f\"Num GPUs Available: {len(gpus)}\")\n",
    "    if gpus:\n",
    "        for gpu in gpus:\n",
    "          tf.config.experimental.set_memory_growth(gpu, True)"
   ]
  },
  {
   "cell_type": "code",
   "execution_count": 6,
   "metadata": {},
   "outputs": [],
   "source": [
    "module = SegmentationModule(\"resources/seg.json\")"
   ]
  },
  {
   "cell_type": "code",
   "execution_count": 7,
   "metadata": {},
   "outputs": [],
   "source": [
    "dataset_dir = \"/mnt/Data/Datasets/BRATS_2020/MICCAI_BraTS2020_TrainingData\"\n",
    "patient_id = \"BraTS20_Training_001\"\n",
    "\n",
    "folder = f\"{dataset_dir}/{patient_id}\"\n",
    "\n",
    "file_names = (\n",
    "    f\"{folder}/{patient_id}_t1.nii.gz\",\n",
    "    f\"{folder}/{patient_id}_t2.nii.gz\",\n",
    "    f\"{folder}/{patient_id}_t1ce.nii.gz\",\n",
    "    f\"{folder}/{patient_id}_flair.nii.gz\"\n",
    ")\n",
    "\n",
    "mri_scan, _, _ = scan_loader.load_img(file_names)"
   ]
  },
  {
   "cell_type": "code",
   "execution_count": 8,
   "metadata": {},
   "outputs": [],
   "source": [
    "segmentation = module.segment(mri_scan)"
   ]
  },
  {
   "cell_type": "code",
   "execution_count": 9,
   "metadata": {},
   "outputs": [],
   "source": [
    "scan_loader.save_img(segmentation, \"example_seg.nii.gz\")"
   ]
  }
 ],
 "metadata": {
  "kernelspec": {
   "display_name": "Vox2Vox",
   "language": "python",
   "name": "vox2vox"
  },
  "language_info": {
   "codemirror_mode": {
    "name": "ipython",
    "version": 3
   },
   "file_extension": ".py",
   "mimetype": "text/x-python",
   "name": "python",
   "nbconvert_exporter": "python",
   "pygments_lexer": "ipython3",
   "version": "3.8.5"
  }
 },
 "nbformat": 4,
 "nbformat_minor": 4
}
